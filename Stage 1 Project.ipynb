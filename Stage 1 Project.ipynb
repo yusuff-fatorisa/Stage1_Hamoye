{
 "cells": [
  {
   "cell_type": "code",
   "execution_count": 1,
   "metadata": {},
   "outputs": [],
   "source": [
    "import numpy as np\n",
    "import pandas as pd\n",
    "import describe_na\n",
    "import display_duplicates\n",
    "import matplotlib.pyplot as plt\n",
    "%matplotlib inline"
   ]
  },
  {
   "cell_type": "code",
   "execution_count": 2,
   "metadata": {},
   "outputs": [],
   "source": [
    "data = pd.read_csv(\"https://raw.githubusercontent.com/WalePhenomenon/climate_change/master/fuel_ferc1.csv\", error_bad_lines = False, warn_bad_lines = True)"
   ]
  },
  {
   "cell_type": "code",
   "execution_count": 3,
   "metadata": {},
   "outputs": [],
   "source": [
    "data.to_csv(\"ferc_data.csv\", index = False)"
   ]
  },
  {
   "cell_type": "code",
   "execution_count": 4,
   "metadata": {},
   "outputs": [
    {
     "data": {
      "text/html": [
       "<div>\n",
       "<style scoped>\n",
       "    .dataframe tbody tr th:only-of-type {\n",
       "        vertical-align: middle;\n",
       "    }\n",
       "\n",
       "    .dataframe tbody tr th {\n",
       "        vertical-align: top;\n",
       "    }\n",
       "\n",
       "    .dataframe thead th {\n",
       "        text-align: right;\n",
       "    }\n",
       "</style>\n",
       "<table border=\"1\" class=\"dataframe\">\n",
       "  <thead>\n",
       "    <tr style=\"text-align: right;\">\n",
       "      <th></th>\n",
       "      <th>record_id</th>\n",
       "      <th>utility_id_ferc1</th>\n",
       "      <th>report_year</th>\n",
       "      <th>plant_name_ferc1</th>\n",
       "      <th>fuel_type_code_pudl</th>\n",
       "      <th>fuel_unit</th>\n",
       "      <th>fuel_qty_burned</th>\n",
       "      <th>fuel_mmbtu_per_unit</th>\n",
       "      <th>fuel_cost_per_unit_burned</th>\n",
       "      <th>fuel_cost_per_unit_delivered</th>\n",
       "      <th>fuel_cost_per_mmbtu</th>\n",
       "    </tr>\n",
       "  </thead>\n",
       "  <tbody>\n",
       "    <tr>\n",
       "      <th>0</th>\n",
       "      <td>f1_fuel_1994_12_1_0_7</td>\n",
       "      <td>1</td>\n",
       "      <td>1994</td>\n",
       "      <td>rockport</td>\n",
       "      <td>coal</td>\n",
       "      <td>ton</td>\n",
       "      <td>5377489.0</td>\n",
       "      <td>16.590</td>\n",
       "      <td>18.59</td>\n",
       "      <td>18.53</td>\n",
       "      <td>1.121</td>\n",
       "    </tr>\n",
       "    <tr>\n",
       "      <th>1</th>\n",
       "      <td>f1_fuel_1994_12_1_0_10</td>\n",
       "      <td>1</td>\n",
       "      <td>1994</td>\n",
       "      <td>rockport total plant</td>\n",
       "      <td>coal</td>\n",
       "      <td>ton</td>\n",
       "      <td>10486945.0</td>\n",
       "      <td>16.592</td>\n",
       "      <td>18.58</td>\n",
       "      <td>18.53</td>\n",
       "      <td>1.120</td>\n",
       "    </tr>\n",
       "    <tr>\n",
       "      <th>2</th>\n",
       "      <td>f1_fuel_1994_12_2_0_1</td>\n",
       "      <td>2</td>\n",
       "      <td>1994</td>\n",
       "      <td>gorgas</td>\n",
       "      <td>coal</td>\n",
       "      <td>ton</td>\n",
       "      <td>2978683.0</td>\n",
       "      <td>24.130</td>\n",
       "      <td>39.72</td>\n",
       "      <td>38.12</td>\n",
       "      <td>1.650</td>\n",
       "    </tr>\n",
       "    <tr>\n",
       "      <th>3</th>\n",
       "      <td>f1_fuel_1994_12_2_0_7</td>\n",
       "      <td>2</td>\n",
       "      <td>1994</td>\n",
       "      <td>barry</td>\n",
       "      <td>coal</td>\n",
       "      <td>ton</td>\n",
       "      <td>3739484.0</td>\n",
       "      <td>23.950</td>\n",
       "      <td>47.21</td>\n",
       "      <td>45.99</td>\n",
       "      <td>1.970</td>\n",
       "    </tr>\n",
       "    <tr>\n",
       "      <th>4</th>\n",
       "      <td>f1_fuel_1994_12_2_0_10</td>\n",
       "      <td>2</td>\n",
       "      <td>1994</td>\n",
       "      <td>chickasaw</td>\n",
       "      <td>gas</td>\n",
       "      <td>mcf</td>\n",
       "      <td>40533.0</td>\n",
       "      <td>1.000</td>\n",
       "      <td>2.77</td>\n",
       "      <td>2.77</td>\n",
       "      <td>2.570</td>\n",
       "    </tr>\n",
       "  </tbody>\n",
       "</table>\n",
       "</div>"
      ],
      "text/plain": [
       "                record_id  utility_id_ferc1  report_year  \\\n",
       "0   f1_fuel_1994_12_1_0_7                 1         1994   \n",
       "1  f1_fuel_1994_12_1_0_10                 1         1994   \n",
       "2   f1_fuel_1994_12_2_0_1                 2         1994   \n",
       "3   f1_fuel_1994_12_2_0_7                 2         1994   \n",
       "4  f1_fuel_1994_12_2_0_10                 2         1994   \n",
       "\n",
       "       plant_name_ferc1 fuel_type_code_pudl fuel_unit  fuel_qty_burned  \\\n",
       "0              rockport                coal       ton        5377489.0   \n",
       "1  rockport total plant                coal       ton       10486945.0   \n",
       "2                gorgas                coal       ton        2978683.0   \n",
       "3                 barry                coal       ton        3739484.0   \n",
       "4             chickasaw                 gas       mcf          40533.0   \n",
       "\n",
       "   fuel_mmbtu_per_unit  fuel_cost_per_unit_burned  \\\n",
       "0               16.590                      18.59   \n",
       "1               16.592                      18.58   \n",
       "2               24.130                      39.72   \n",
       "3               23.950                      47.21   \n",
       "4                1.000                       2.77   \n",
       "\n",
       "   fuel_cost_per_unit_delivered  fuel_cost_per_mmbtu  \n",
       "0                         18.53                1.121  \n",
       "1                         18.53                1.120  \n",
       "2                         38.12                1.650  \n",
       "3                         45.99                1.970  \n",
       "4                          2.77                2.570  "
      ]
     },
     "execution_count": 4,
     "metadata": {},
     "output_type": "execute_result"
    }
   ],
   "source": [
    "new_data = pd.read_csv(\"ferc_data.csv\")\n",
    "new_data.head()"
   ]
  },
  {
   "cell_type": "code",
   "execution_count": 5,
   "metadata": {},
   "outputs": [],
   "source": [
    "assert all(data) == all(new_data)"
   ]
  },
  {
   "cell_type": "code",
   "execution_count": 6,
   "metadata": {},
   "outputs": [],
   "source": [
    "assert len(data) == len(new_data)"
   ]
  },
  {
   "cell_type": "code",
   "execution_count": 7,
   "metadata": {},
   "outputs": [],
   "source": [
    "assert data.shape == new_data.shape"
   ]
  },
  {
   "cell_type": "markdown",
   "metadata": {},
   "source": [
    "### Inspecting the Dataset"
   ]
  },
  {
   "cell_type": "code",
   "execution_count": 8,
   "metadata": {},
   "outputs": [
    {
     "data": {
      "text/html": [
       "<div>\n",
       "<style scoped>\n",
       "    .dataframe tbody tr th:only-of-type {\n",
       "        vertical-align: middle;\n",
       "    }\n",
       "\n",
       "    .dataframe tbody tr th {\n",
       "        vertical-align: top;\n",
       "    }\n",
       "\n",
       "    .dataframe thead th {\n",
       "        text-align: right;\n",
       "    }\n",
       "</style>\n",
       "<table border=\"1\" class=\"dataframe\">\n",
       "  <thead>\n",
       "    <tr style=\"text-align: right;\">\n",
       "      <th></th>\n",
       "      <th>utility_id_ferc1</th>\n",
       "      <th>report_year</th>\n",
       "      <th>fuel_qty_burned</th>\n",
       "      <th>fuel_mmbtu_per_unit</th>\n",
       "      <th>fuel_cost_per_unit_burned</th>\n",
       "      <th>fuel_cost_per_unit_delivered</th>\n",
       "      <th>fuel_cost_per_mmbtu</th>\n",
       "    </tr>\n",
       "  </thead>\n",
       "  <tbody>\n",
       "    <tr>\n",
       "      <th>count</th>\n",
       "      <td>29523.000000</td>\n",
       "      <td>29523.000000</td>\n",
       "      <td>2.952300e+04</td>\n",
       "      <td>29523.000000</td>\n",
       "      <td>29523.000000</td>\n",
       "      <td>2.952300e+04</td>\n",
       "      <td>29523.000000</td>\n",
       "    </tr>\n",
       "    <tr>\n",
       "      <th>mean</th>\n",
       "      <td>118.601836</td>\n",
       "      <td>2005.806050</td>\n",
       "      <td>2.622119e+06</td>\n",
       "      <td>8.492111</td>\n",
       "      <td>208.649031</td>\n",
       "      <td>9.175704e+02</td>\n",
       "      <td>19.304354</td>\n",
       "    </tr>\n",
       "    <tr>\n",
       "      <th>std</th>\n",
       "      <td>74.178353</td>\n",
       "      <td>7.025483</td>\n",
       "      <td>9.118004e+06</td>\n",
       "      <td>10.600220</td>\n",
       "      <td>2854.490090</td>\n",
       "      <td>6.877593e+04</td>\n",
       "      <td>2091.540939</td>\n",
       "    </tr>\n",
       "    <tr>\n",
       "      <th>min</th>\n",
       "      <td>1.000000</td>\n",
       "      <td>1994.000000</td>\n",
       "      <td>1.000000e+00</td>\n",
       "      <td>0.000001</td>\n",
       "      <td>-276.080000</td>\n",
       "      <td>-8.749370e+02</td>\n",
       "      <td>-41.501000</td>\n",
       "    </tr>\n",
       "    <tr>\n",
       "      <th>25%</th>\n",
       "      <td>55.000000</td>\n",
       "      <td>2000.000000</td>\n",
       "      <td>1.381700e+04</td>\n",
       "      <td>1.024000</td>\n",
       "      <td>5.207000</td>\n",
       "      <td>3.778500e+00</td>\n",
       "      <td>1.940000</td>\n",
       "    </tr>\n",
       "    <tr>\n",
       "      <th>50%</th>\n",
       "      <td>122.000000</td>\n",
       "      <td>2006.000000</td>\n",
       "      <td>2.533220e+05</td>\n",
       "      <td>5.762694</td>\n",
       "      <td>26.000000</td>\n",
       "      <td>1.737100e+01</td>\n",
       "      <td>4.127000</td>\n",
       "    </tr>\n",
       "    <tr>\n",
       "      <th>75%</th>\n",
       "      <td>176.000000</td>\n",
       "      <td>2012.000000</td>\n",
       "      <td>1.424034e+06</td>\n",
       "      <td>17.006000</td>\n",
       "      <td>47.113000</td>\n",
       "      <td>4.213700e+01</td>\n",
       "      <td>7.745000</td>\n",
       "    </tr>\n",
       "    <tr>\n",
       "      <th>max</th>\n",
       "      <td>514.000000</td>\n",
       "      <td>2018.000000</td>\n",
       "      <td>5.558942e+08</td>\n",
       "      <td>341.260000</td>\n",
       "      <td>139358.000000</td>\n",
       "      <td>7.964521e+06</td>\n",
       "      <td>359278.000000</td>\n",
       "    </tr>\n",
       "  </tbody>\n",
       "</table>\n",
       "</div>"
      ],
      "text/plain": [
       "       utility_id_ferc1   report_year  fuel_qty_burned  fuel_mmbtu_per_unit  \\\n",
       "count      29523.000000  29523.000000     2.952300e+04         29523.000000   \n",
       "mean         118.601836   2005.806050     2.622119e+06             8.492111   \n",
       "std           74.178353      7.025483     9.118004e+06            10.600220   \n",
       "min            1.000000   1994.000000     1.000000e+00             0.000001   \n",
       "25%           55.000000   2000.000000     1.381700e+04             1.024000   \n",
       "50%          122.000000   2006.000000     2.533220e+05             5.762694   \n",
       "75%          176.000000   2012.000000     1.424034e+06            17.006000   \n",
       "max          514.000000   2018.000000     5.558942e+08           341.260000   \n",
       "\n",
       "       fuel_cost_per_unit_burned  fuel_cost_per_unit_delivered  \\\n",
       "count               29523.000000                  2.952300e+04   \n",
       "mean                  208.649031                  9.175704e+02   \n",
       "std                  2854.490090                  6.877593e+04   \n",
       "min                  -276.080000                 -8.749370e+02   \n",
       "25%                     5.207000                  3.778500e+00   \n",
       "50%                    26.000000                  1.737100e+01   \n",
       "75%                    47.113000                  4.213700e+01   \n",
       "max                139358.000000                  7.964521e+06   \n",
       "\n",
       "       fuel_cost_per_mmbtu  \n",
       "count         29523.000000  \n",
       "mean             19.304354  \n",
       "std            2091.540939  \n",
       "min             -41.501000  \n",
       "25%               1.940000  \n",
       "50%               4.127000  \n",
       "75%               7.745000  \n",
       "max          359278.000000  "
      ]
     },
     "execution_count": 8,
     "metadata": {},
     "output_type": "execute_result"
    }
   ],
   "source": [
    "new_data.describe()"
   ]
  },
  {
   "cell_type": "code",
   "execution_count": 9,
   "metadata": {},
   "outputs": [
    {
     "data": {
      "text/html": [
       "<div>\n",
       "<style scoped>\n",
       "    .dataframe tbody tr th:only-of-type {\n",
       "        vertical-align: middle;\n",
       "    }\n",
       "\n",
       "    .dataframe tbody tr th {\n",
       "        vertical-align: top;\n",
       "    }\n",
       "\n",
       "    .dataframe thead th {\n",
       "        text-align: right;\n",
       "    }\n",
       "</style>\n",
       "<table border=\"1\" class=\"dataframe\">\n",
       "  <thead>\n",
       "    <tr style=\"text-align: right;\">\n",
       "      <th></th>\n",
       "      <th>record_id</th>\n",
       "      <th>utility_id_ferc1</th>\n",
       "      <th>report_year</th>\n",
       "      <th>plant_name_ferc1</th>\n",
       "      <th>fuel_type_code_pudl</th>\n",
       "      <th>fuel_unit</th>\n",
       "      <th>fuel_qty_burned</th>\n",
       "      <th>fuel_mmbtu_per_unit</th>\n",
       "      <th>fuel_cost_per_unit_burned</th>\n",
       "      <th>fuel_cost_per_unit_delivered</th>\n",
       "      <th>fuel_cost_per_mmbtu</th>\n",
       "    </tr>\n",
       "  </thead>\n",
       "  <tbody>\n",
       "    <tr>\n",
       "      <th>count</th>\n",
       "      <td>29523</td>\n",
       "      <td>29523.000000</td>\n",
       "      <td>29523.000000</td>\n",
       "      <td>29523</td>\n",
       "      <td>29523</td>\n",
       "      <td>29343</td>\n",
       "      <td>2.952300e+04</td>\n",
       "      <td>29523.000000</td>\n",
       "      <td>29523.000000</td>\n",
       "      <td>2.952300e+04</td>\n",
       "      <td>29523.000000</td>\n",
       "    </tr>\n",
       "    <tr>\n",
       "      <th>unique</th>\n",
       "      <td>29523</td>\n",
       "      <td>NaN</td>\n",
       "      <td>NaN</td>\n",
       "      <td>2315</td>\n",
       "      <td>6</td>\n",
       "      <td>9</td>\n",
       "      <td>NaN</td>\n",
       "      <td>NaN</td>\n",
       "      <td>NaN</td>\n",
       "      <td>NaN</td>\n",
       "      <td>NaN</td>\n",
       "    </tr>\n",
       "    <tr>\n",
       "      <th>top</th>\n",
       "      <td>f1_fuel_2012_12_80_0_4</td>\n",
       "      <td>NaN</td>\n",
       "      <td>NaN</td>\n",
       "      <td>big stone</td>\n",
       "      <td>gas</td>\n",
       "      <td>mcf</td>\n",
       "      <td>NaN</td>\n",
       "      <td>NaN</td>\n",
       "      <td>NaN</td>\n",
       "      <td>NaN</td>\n",
       "      <td>NaN</td>\n",
       "    </tr>\n",
       "    <tr>\n",
       "      <th>freq</th>\n",
       "      <td>1</td>\n",
       "      <td>NaN</td>\n",
       "      <td>NaN</td>\n",
       "      <td>156</td>\n",
       "      <td>11486</td>\n",
       "      <td>11354</td>\n",
       "      <td>NaN</td>\n",
       "      <td>NaN</td>\n",
       "      <td>NaN</td>\n",
       "      <td>NaN</td>\n",
       "      <td>NaN</td>\n",
       "    </tr>\n",
       "    <tr>\n",
       "      <th>mean</th>\n",
       "      <td>NaN</td>\n",
       "      <td>118.601836</td>\n",
       "      <td>2005.806050</td>\n",
       "      <td>NaN</td>\n",
       "      <td>NaN</td>\n",
       "      <td>NaN</td>\n",
       "      <td>2.622119e+06</td>\n",
       "      <td>8.492111</td>\n",
       "      <td>208.649031</td>\n",
       "      <td>9.175704e+02</td>\n",
       "      <td>19.304354</td>\n",
       "    </tr>\n",
       "    <tr>\n",
       "      <th>std</th>\n",
       "      <td>NaN</td>\n",
       "      <td>74.178353</td>\n",
       "      <td>7.025483</td>\n",
       "      <td>NaN</td>\n",
       "      <td>NaN</td>\n",
       "      <td>NaN</td>\n",
       "      <td>9.118004e+06</td>\n",
       "      <td>10.600220</td>\n",
       "      <td>2854.490090</td>\n",
       "      <td>6.877593e+04</td>\n",
       "      <td>2091.540939</td>\n",
       "    </tr>\n",
       "    <tr>\n",
       "      <th>min</th>\n",
       "      <td>NaN</td>\n",
       "      <td>1.000000</td>\n",
       "      <td>1994.000000</td>\n",
       "      <td>NaN</td>\n",
       "      <td>NaN</td>\n",
       "      <td>NaN</td>\n",
       "      <td>1.000000e+00</td>\n",
       "      <td>0.000001</td>\n",
       "      <td>-276.080000</td>\n",
       "      <td>-8.749370e+02</td>\n",
       "      <td>-41.501000</td>\n",
       "    </tr>\n",
       "    <tr>\n",
       "      <th>25%</th>\n",
       "      <td>NaN</td>\n",
       "      <td>55.000000</td>\n",
       "      <td>2000.000000</td>\n",
       "      <td>NaN</td>\n",
       "      <td>NaN</td>\n",
       "      <td>NaN</td>\n",
       "      <td>1.381700e+04</td>\n",
       "      <td>1.024000</td>\n",
       "      <td>5.207000</td>\n",
       "      <td>3.778500e+00</td>\n",
       "      <td>1.940000</td>\n",
       "    </tr>\n",
       "    <tr>\n",
       "      <th>50%</th>\n",
       "      <td>NaN</td>\n",
       "      <td>122.000000</td>\n",
       "      <td>2006.000000</td>\n",
       "      <td>NaN</td>\n",
       "      <td>NaN</td>\n",
       "      <td>NaN</td>\n",
       "      <td>2.533220e+05</td>\n",
       "      <td>5.762694</td>\n",
       "      <td>26.000000</td>\n",
       "      <td>1.737100e+01</td>\n",
       "      <td>4.127000</td>\n",
       "    </tr>\n",
       "    <tr>\n",
       "      <th>75%</th>\n",
       "      <td>NaN</td>\n",
       "      <td>176.000000</td>\n",
       "      <td>2012.000000</td>\n",
       "      <td>NaN</td>\n",
       "      <td>NaN</td>\n",
       "      <td>NaN</td>\n",
       "      <td>1.424034e+06</td>\n",
       "      <td>17.006000</td>\n",
       "      <td>47.113000</td>\n",
       "      <td>4.213700e+01</td>\n",
       "      <td>7.745000</td>\n",
       "    </tr>\n",
       "    <tr>\n",
       "      <th>max</th>\n",
       "      <td>NaN</td>\n",
       "      <td>514.000000</td>\n",
       "      <td>2018.000000</td>\n",
       "      <td>NaN</td>\n",
       "      <td>NaN</td>\n",
       "      <td>NaN</td>\n",
       "      <td>5.558942e+08</td>\n",
       "      <td>341.260000</td>\n",
       "      <td>139358.000000</td>\n",
       "      <td>7.964521e+06</td>\n",
       "      <td>359278.000000</td>\n",
       "    </tr>\n",
       "  </tbody>\n",
       "</table>\n",
       "</div>"
      ],
      "text/plain": [
       "                     record_id  utility_id_ferc1   report_year  \\\n",
       "count                    29523      29523.000000  29523.000000   \n",
       "unique                   29523               NaN           NaN   \n",
       "top     f1_fuel_2012_12_80_0_4               NaN           NaN   \n",
       "freq                         1               NaN           NaN   \n",
       "mean                       NaN        118.601836   2005.806050   \n",
       "std                        NaN         74.178353      7.025483   \n",
       "min                        NaN          1.000000   1994.000000   \n",
       "25%                        NaN         55.000000   2000.000000   \n",
       "50%                        NaN        122.000000   2006.000000   \n",
       "75%                        NaN        176.000000   2012.000000   \n",
       "max                        NaN        514.000000   2018.000000   \n",
       "\n",
       "       plant_name_ferc1 fuel_type_code_pudl fuel_unit  fuel_qty_burned  \\\n",
       "count             29523               29523     29343     2.952300e+04   \n",
       "unique             2315                   6         9              NaN   \n",
       "top           big stone                 gas       mcf              NaN   \n",
       "freq                156               11486     11354              NaN   \n",
       "mean                NaN                 NaN       NaN     2.622119e+06   \n",
       "std                 NaN                 NaN       NaN     9.118004e+06   \n",
       "min                 NaN                 NaN       NaN     1.000000e+00   \n",
       "25%                 NaN                 NaN       NaN     1.381700e+04   \n",
       "50%                 NaN                 NaN       NaN     2.533220e+05   \n",
       "75%                 NaN                 NaN       NaN     1.424034e+06   \n",
       "max                 NaN                 NaN       NaN     5.558942e+08   \n",
       "\n",
       "        fuel_mmbtu_per_unit  fuel_cost_per_unit_burned  \\\n",
       "count          29523.000000               29523.000000   \n",
       "unique                  NaN                        NaN   \n",
       "top                     NaN                        NaN   \n",
       "freq                    NaN                        NaN   \n",
       "mean               8.492111                 208.649031   \n",
       "std               10.600220                2854.490090   \n",
       "min                0.000001                -276.080000   \n",
       "25%                1.024000                   5.207000   \n",
       "50%                5.762694                  26.000000   \n",
       "75%               17.006000                  47.113000   \n",
       "max              341.260000              139358.000000   \n",
       "\n",
       "        fuel_cost_per_unit_delivered  fuel_cost_per_mmbtu  \n",
       "count                   2.952300e+04         29523.000000  \n",
       "unique                           NaN                  NaN  \n",
       "top                              NaN                  NaN  \n",
       "freq                             NaN                  NaN  \n",
       "mean                    9.175704e+02            19.304354  \n",
       "std                     6.877593e+04          2091.540939  \n",
       "min                    -8.749370e+02           -41.501000  \n",
       "25%                     3.778500e+00             1.940000  \n",
       "50%                     1.737100e+01             4.127000  \n",
       "75%                     4.213700e+01             7.745000  \n",
       "max                     7.964521e+06        359278.000000  "
      ]
     },
     "execution_count": 9,
     "metadata": {},
     "output_type": "execute_result"
    }
   ],
   "source": [
    "new_data.describe(include=\"all\")"
   ]
  },
  {
   "cell_type": "code",
   "execution_count": 10,
   "metadata": {},
   "outputs": [
    {
     "data": {
      "text/plain": [
       "0"
      ]
     },
     "execution_count": 10,
     "metadata": {},
     "output_type": "execute_result"
    }
   ],
   "source": [
    "new_data.duplicated().sum()"
   ]
  },
  {
   "cell_type": "code",
   "execution_count": 11,
   "metadata": {},
   "outputs": [
    {
     "data": {
      "text/html": [
       "<div>\n",
       "<style scoped>\n",
       "    .dataframe tbody tr th:only-of-type {\n",
       "        vertical-align: middle;\n",
       "    }\n",
       "\n",
       "    .dataframe tbody tr th {\n",
       "        vertical-align: top;\n",
       "    }\n",
       "\n",
       "    .dataframe thead th {\n",
       "        text-align: right;\n",
       "    }\n",
       "</style>\n",
       "<table border=\"1\" class=\"dataframe\">\n",
       "  <thead>\n",
       "    <tr style=\"text-align: right;\">\n",
       "      <th></th>\n",
       "      <th>record_id</th>\n",
       "      <th>utility_id_ferc1</th>\n",
       "      <th>report_year</th>\n",
       "      <th>plant_name_ferc1</th>\n",
       "      <th>fuel_type_code_pudl</th>\n",
       "      <th>fuel_unit</th>\n",
       "      <th>fuel_qty_burned</th>\n",
       "      <th>fuel_mmbtu_per_unit</th>\n",
       "      <th>fuel_cost_per_unit_burned</th>\n",
       "      <th>fuel_cost_per_unit_delivered</th>\n",
       "      <th>fuel_cost_per_mmbtu</th>\n",
       "    </tr>\n",
       "  </thead>\n",
       "  <tbody>\n",
       "  </tbody>\n",
       "</table>\n",
       "</div>"
      ],
      "text/plain": [
       "Empty DataFrame\n",
       "Columns: [record_id, utility_id_ferc1, report_year, plant_name_ferc1, fuel_type_code_pudl, fuel_unit, fuel_qty_burned, fuel_mmbtu_per_unit, fuel_cost_per_unit_burned, fuel_cost_per_unit_delivered, fuel_cost_per_mmbtu]\n",
       "Index: []"
      ]
     },
     "execution_count": 11,
     "metadata": {},
     "output_type": "execute_result"
    }
   ],
   "source": [
    "# This is a custom defined function that finds and displays all the duplicate entries in a dataset\n",
    "display_duplicates.display_dup(new_data)"
   ]
  },
  {
   "cell_type": "code",
   "execution_count": 12,
   "metadata": {},
   "outputs": [
    {
     "data": {
      "text/plain": [
       "Index(['record_id', 'utility_id_ferc1', 'report_year', 'plant_name_ferc1',\n",
       "       'fuel_type_code_pudl', 'fuel_unit', 'fuel_qty_burned',\n",
       "       'fuel_mmbtu_per_unit', 'fuel_cost_per_unit_burned',\n",
       "       'fuel_cost_per_unit_delivered', 'fuel_cost_per_mmbtu'],\n",
       "      dtype='object')"
      ]
     },
     "execution_count": 12,
     "metadata": {},
     "output_type": "execute_result"
    }
   ],
   "source": [
    "new_data.columns"
   ]
  },
  {
   "cell_type": "code",
   "execution_count": 13,
   "metadata": {},
   "outputs": [
    {
     "data": {
      "text/plain": [
       "RangeIndex(start=0, stop=29523, step=1)"
      ]
     },
     "execution_count": 13,
     "metadata": {},
     "output_type": "execute_result"
    }
   ],
   "source": [
    "new_data.index"
   ]
  },
  {
   "cell_type": "code",
   "execution_count": 14,
   "metadata": {},
   "outputs": [
    {
     "name": "stdout",
     "output_type": "stream",
     "text": [
      "<class 'pandas.core.frame.DataFrame'>\n",
      "RangeIndex: 29523 entries, 0 to 29522\n",
      "Data columns (total 11 columns):\n",
      " #   Column                        Non-Null Count  Dtype  \n",
      "---  ------                        --------------  -----  \n",
      " 0   record_id                     29523 non-null  object \n",
      " 1   utility_id_ferc1              29523 non-null  int64  \n",
      " 2   report_year                   29523 non-null  int64  \n",
      " 3   plant_name_ferc1              29523 non-null  object \n",
      " 4   fuel_type_code_pudl           29523 non-null  object \n",
      " 5   fuel_unit                     29343 non-null  object \n",
      " 6   fuel_qty_burned               29523 non-null  float64\n",
      " 7   fuel_mmbtu_per_unit           29523 non-null  float64\n",
      " 8   fuel_cost_per_unit_burned     29523 non-null  float64\n",
      " 9   fuel_cost_per_unit_delivered  29523 non-null  float64\n",
      " 10  fuel_cost_per_mmbtu           29523 non-null  float64\n",
      "dtypes: float64(5), int64(2), object(4)\n",
      "memory usage: 2.5+ MB\n"
     ]
    }
   ],
   "source": [
    "new_data.info()"
   ]
  },
  {
   "cell_type": "code",
   "execution_count": 15,
   "metadata": {},
   "outputs": [
    {
     "data": {
      "text/plain": [
       "194    1224\n",
       "186     981\n",
       "195     826\n",
       "134     786\n",
       "44      746\n",
       "       ... \n",
       "283       2\n",
       "208       2\n",
       "513       2\n",
       "285       1\n",
       "287       1\n",
       "Name: utility_id_ferc1, Length: 185, dtype: int64"
      ]
     },
     "execution_count": 15,
     "metadata": {},
     "output_type": "execute_result"
    }
   ],
   "source": [
    "new_data.utility_id_ferc1.sort_values().value_counts()"
   ]
  },
  {
   "cell_type": "code",
   "execution_count": 16,
   "metadata": {},
   "outputs": [
    {
     "data": {
      "text/plain": [
       "array([  1,   2,   4,   6,   7,   8,   9,  10,  11,  12,  14,  15,  16,\n",
       "        17,  19,  20,  21,  22,  24,  25,  26,  27,  29,  30,  31,  32,\n",
       "        33,  36,  38,  39,  41,  42,  43,  44,  45,  46,  49,  50,  51,\n",
       "        52,  54,  55,  56,  57,  58,  61,  62,  63,  64,  65,  67,  68,\n",
       "        69,  70,  71,  72,  73,  74,  75,  76,  77,  79,  80,  81,  82,\n",
       "        85,  87,  88,  89,  94,  95,  96,  97,  98,  99, 100, 101, 102,\n",
       "       104, 107, 108, 113, 114, 115, 116, 117, 118, 119, 120, 121, 122,\n",
       "       124, 125, 126, 127, 128, 129, 130, 131, 132, 133, 134, 135, 136,\n",
       "       137, 138, 141, 142, 143, 144, 145, 146, 147, 148, 149, 150, 151,\n",
       "       154, 155, 156, 157, 159, 160, 161, 162, 163, 164, 166, 169, 170,\n",
       "       171, 173, 174, 175, 176, 177, 178, 179, 181, 182, 185, 186, 187,\n",
       "       188, 189, 190, 191, 192, 193, 194, 195, 196, 200, 201, 202, 203,\n",
       "       204, 208, 210, 213, 221, 226, 227, 230, 244, 245, 262, 266, 270,\n",
       "       271, 276, 281, 283, 285, 287, 288, 294, 315, 403, 432, 449, 452,\n",
       "       454, 513, 514], dtype=int64)"
      ]
     },
     "execution_count": 16,
     "metadata": {},
     "output_type": "execute_result"
    }
   ],
   "source": [
    "new_data.utility_id_ferc1.sort_values().unique()"
   ]
  },
  {
   "cell_type": "code",
   "execution_count": 17,
   "metadata": {},
   "outputs": [
    {
     "data": {
      "text/plain": [
       "1994    1235\n",
       "1995    1201\n",
       "1996    1088\n",
       "1997    1094\n",
       "1998    1107\n",
       "1999    1050\n",
       "2000    1373\n",
       "2001    1356\n",
       "2002    1205\n",
       "2003    1211\n",
       "2004    1192\n",
       "2005    1269\n",
       "2006    1243\n",
       "2007    1264\n",
       "2008    1228\n",
       "2009    1222\n",
       "2010    1261\n",
       "2011    1240\n",
       "2012    1243\n",
       "2013    1199\n",
       "2014    1171\n",
       "2015    1093\n",
       "2016    1034\n",
       "2017     993\n",
       "2018     951\n",
       "Name: report_year, dtype: int64"
      ]
     },
     "execution_count": 17,
     "metadata": {},
     "output_type": "execute_result"
    }
   ],
   "source": [
    "new_data[\"report_year\"].value_counts().sort_index()"
   ]
  },
  {
   "cell_type": "code",
   "execution_count": 18,
   "metadata": {},
   "outputs": [
    {
     "data": {
      "text/plain": [
       "array([1994, 1995, 1996, 1997, 1998, 1999, 2000, 2001, 2002, 2003, 2004,\n",
       "       2005, 2006, 2007, 2008, 2009, 2010, 2011, 2012, 2013, 2014, 2015,\n",
       "       2016, 2017, 2018], dtype=int64)"
      ]
     },
     "execution_count": 18,
     "metadata": {},
     "output_type": "execute_result"
    }
   ],
   "source": [
    "new_data[\"report_year\"].sort_values().unique()"
   ]
  },
  {
   "cell_type": "code",
   "execution_count": 19,
   "metadata": {},
   "outputs": [
    {
     "data": {
      "text/plain": [
       "big stone              156\n",
       "four corners           151\n",
       "riverside              133\n",
       "coyote                 121\n",
       "louisa                 119\n",
       "                      ... \n",
       "woodland road            1\n",
       "kirksville               1\n",
       "w.f. wyman #4            1\n",
       "resondent's portion      1\n",
       "*robert ritchie          1\n",
       "Name: plant_name_ferc1, Length: 2315, dtype: int64"
      ]
     },
     "execution_count": 19,
     "metadata": {},
     "output_type": "execute_result"
    }
   ],
   "source": [
    "new_data[\"plant_name_ferc1\"].value_counts()"
   ]
  },
  {
   "cell_type": "code",
   "execution_count": 20,
   "metadata": {},
   "outputs": [
    {
     "data": {
      "text/plain": [
       "array(['rockport', 'rockport total plant', 'gorgas', ...,\n",
       "       'airport unit 6', 'wyodak - bhp 20%', 'wygen 3 bhp 52%'],\n",
       "      dtype=object)"
      ]
     },
     "execution_count": 20,
     "metadata": {},
     "output_type": "execute_result"
    }
   ],
   "source": [
    "new_data[\"plant_name_ferc1\"].unique()"
   ]
  },
  {
   "cell_type": "code",
   "execution_count": 21,
   "metadata": {},
   "outputs": [
    {
     "data": {
      "text/plain": [
       "gas        11486\n",
       "coal        8547\n",
       "oil         8064\n",
       "nuclear      818\n",
       "waste        441\n",
       "other        167\n",
       "Name: fuel_type_code_pudl, dtype: int64"
      ]
     },
     "execution_count": 21,
     "metadata": {},
     "output_type": "execute_result"
    }
   ],
   "source": [
    "new_data[\"fuel_type_code_pudl\"].value_counts()"
   ]
  },
  {
   "cell_type": "code",
   "execution_count": 22,
   "metadata": {},
   "outputs": [
    {
     "data": {
      "text/plain": [
       "array(['coal', 'gas', 'nuclear', 'oil', 'waste', 'other'], dtype=object)"
      ]
     },
     "execution_count": 22,
     "metadata": {},
     "output_type": "execute_result"
    }
   ],
   "source": [
    "new_data[\"fuel_type_code_pudl\"].unique()"
   ]
  },
  {
   "cell_type": "code",
   "execution_count": 23,
   "metadata": {},
   "outputs": [
    {
     "data": {
      "text/plain": [
       "mcf       11354\n",
       "ton        8958\n",
       "bbl        7998\n",
       "gramsU      464\n",
       "mmbtu       180\n",
       "kgU         110\n",
       "mwhth       100\n",
       "mwdth        95\n",
       "gal          84\n",
       "Name: fuel_unit, dtype: int64"
      ]
     },
     "execution_count": 23,
     "metadata": {},
     "output_type": "execute_result"
    }
   ],
   "source": [
    "new_data[\"fuel_unit\"].value_counts()"
   ]
  },
  {
   "cell_type": "code",
   "execution_count": 24,
   "metadata": {},
   "outputs": [
    {
     "data": {
      "text/plain": [
       "array(['ton', 'mcf', 'kgU', 'bbl', 'gramsU', nan, 'mwdth', 'mmbtu',\n",
       "       'mwhth', 'gal'], dtype=object)"
      ]
     },
     "execution_count": 24,
     "metadata": {},
     "output_type": "execute_result"
    }
   ],
   "source": [
    "new_data[\"fuel_unit\"].unique()"
   ]
  },
  {
   "cell_type": "code",
   "execution_count": 25,
   "metadata": {},
   "outputs": [
    {
     "data": {
      "text/plain": [
       "record_id                        object\n",
       "utility_id_ferc1                  int64\n",
       "report_year                       int64\n",
       "plant_name_ferc1                 object\n",
       "fuel_type_code_pudl              object\n",
       "fuel_unit                        object\n",
       "fuel_qty_burned                 float64\n",
       "fuel_mmbtu_per_unit             float64\n",
       "fuel_cost_per_unit_burned       float64\n",
       "fuel_cost_per_unit_delivered    float64\n",
       "fuel_cost_per_mmbtu             float64\n",
       "dtype: object"
      ]
     },
     "execution_count": 25,
     "metadata": {},
     "output_type": "execute_result"
    }
   ],
   "source": [
    "new_data.dtypes"
   ]
  },
  {
   "cell_type": "markdown",
   "metadata": {},
   "source": [
    "## Working on the Quiz Questions"
   ]
  },
  {
   "cell_type": "markdown",
   "metadata": {},
   "source": [
    "### Question 1"
   ]
  },
  {
   "cell_type": "code",
   "execution_count": 26,
   "metadata": {},
   "outputs": [
    {
     "data": {
      "text/plain": [
       "[1, 2, 3, 4, 5, 6, 13, 21, 34]"
      ]
     },
     "execution_count": 26,
     "metadata": {},
     "output_type": "execute_result"
    }
   ],
   "source": [
    "a = [1, 2, 3, 4, 5, 6]\n",
    "b = [13, 21, 34]\n",
    "# The extend method will only modify either of the list but not create a new list 'a_b'\n",
    "a.extend(b)\n",
    "# The most efficient methods to create the new list 'a_b' are \n",
    "# 1. Create the list 'a_b' from scratch\n",
    "# assign the extended list 'a' to a new varible name 'a_b'\n",
    "a_b = a\n",
    "a_b"
   ]
  },
  {
   "cell_type": "markdown",
   "metadata": {},
   "source": [
    "### Question 2"
   ]
  },
  {
   "cell_type": "code",
   "execution_count": 27,
   "metadata": {},
   "outputs": [
    {
     "data": {
      "text/plain": [
       "array([[1., 0., 0.],\n",
       "       [0., 1., 0.],\n",
       "       [0., 0., 1.]])"
      ]
     },
     "execution_count": 27,
     "metadata": {},
     "output_type": "execute_result"
    }
   ],
   "source": [
    "# To create an 'identity matrix' in numpy\n",
    "# The 'identity' function will do the magic\n",
    "np.identity(3)"
   ]
  },
  {
   "cell_type": "markdown",
   "metadata": {},
   "source": [
    "### Question 3"
   ]
  },
  {
   "cell_type": "code",
   "execution_count": 28,
   "metadata": {},
   "outputs": [
    {
     "data": {
      "text/plain": [
       "'gas'"
      ]
     },
     "execution_count": 28,
     "metadata": {},
     "output_type": "execute_result"
    }
   ],
   "source": [
    "new_data.groupby(\"fuel_type_code_pudl\")[\"fuel_cost_per_unit_burned\"].mean().idxmin()"
   ]
  },
  {
   "cell_type": "markdown",
   "metadata": {},
   "source": [
    "### Question 4"
   ]
  },
  {
   "cell_type": "code",
   "execution_count": 29,
   "metadata": {},
   "outputs": [
    {
     "data": {
      "text/plain": [
       "10.600220307806886"
      ]
     },
     "execution_count": 29,
     "metadata": {},
     "output_type": "execute_result"
    }
   ],
   "source": [
    "new_data.describe().loc[\"std\", \"fuel_mmbtu_per_unit\"]"
   ]
  },
  {
   "cell_type": "code",
   "execution_count": 30,
   "metadata": {},
   "outputs": [
    {
     "data": {
      "text/plain": [
       "17.006"
      ]
     },
     "execution_count": 30,
     "metadata": {},
     "output_type": "execute_result"
    }
   ],
   "source": [
    "new_data.describe().loc[\"75%\", \"fuel_mmbtu_per_unit\"]"
   ]
  },
  {
   "cell_type": "markdown",
   "metadata": {},
   "source": [
    "### Question 5"
   ]
  },
  {
   "cell_type": "code",
   "execution_count": 31,
   "metadata": {},
   "outputs": [
    {
     "data": {
      "text/plain": [
       "15.851495469109503"
      ]
     },
     "execution_count": 31,
     "metadata": {},
     "output_type": "execute_result"
    }
   ],
   "source": [
    "new_data[\"fuel_qty_burned\"].skew()"
   ]
  },
  {
   "cell_type": "code",
   "execution_count": 32,
   "metadata": {},
   "outputs": [
    {
     "data": {
      "text/plain": [
       "651.3694501337732"
      ]
     },
     "execution_count": 32,
     "metadata": {},
     "output_type": "execute_result"
    }
   ],
   "source": [
    "new_data[\"fuel_qty_burned\"].kurtosis()"
   ]
  },
  {
   "cell_type": "markdown",
   "metadata": {},
   "source": [
    "### Question 6"
   ]
  },
  {
   "cell_type": "code",
   "execution_count": 33,
   "metadata": {},
   "outputs": [
    {
     "data": {
      "text/html": [
       "<div>\n",
       "<style scoped>\n",
       "    .dataframe tbody tr th:only-of-type {\n",
       "        vertical-align: middle;\n",
       "    }\n",
       "\n",
       "    .dataframe tbody tr th {\n",
       "        vertical-align: top;\n",
       "    }\n",
       "\n",
       "    .dataframe thead th {\n",
       "        text-align: right;\n",
       "    }\n",
       "</style>\n",
       "<table border=\"1\" class=\"dataframe\">\n",
       "  <thead>\n",
       "    <tr style=\"text-align: right;\">\n",
       "      <th></th>\n",
       "      <th>null_counts</th>\n",
       "      <th>null_percent(%)</th>\n",
       "      <th>not_null_counts</th>\n",
       "      <th>not_null_percent(%)</th>\n",
       "    </tr>\n",
       "    <tr>\n",
       "      <th>column_name</th>\n",
       "      <th></th>\n",
       "      <th></th>\n",
       "      <th></th>\n",
       "      <th></th>\n",
       "    </tr>\n",
       "  </thead>\n",
       "  <tbody>\n",
       "    <tr>\n",
       "      <th>fuel_unit</th>\n",
       "      <td>180</td>\n",
       "      <td>0.609694</td>\n",
       "      <td>29343</td>\n",
       "      <td>99.390306</td>\n",
       "    </tr>\n",
       "  </tbody>\n",
       "</table>\n",
       "</div>"
      ],
      "text/plain": [
       "             null_counts  null_percent(%)  not_null_counts  \\\n",
       "column_name                                                  \n",
       "fuel_unit            180         0.609694            29343   \n",
       "\n",
       "             not_null_percent(%)  \n",
       "column_name                       \n",
       "fuel_unit              99.390306  "
      ]
     },
     "execution_count": 33,
     "metadata": {},
     "output_type": "execute_result"
    }
   ],
   "source": [
    "# This a custom defined function that gets the missing and non missing values in a Dataset\n",
    "# And displays the counts of \n",
    "# Missing Values and its percentage \n",
    "#And also the Non-missing values and its percentage\n",
    "missing_values = describe_na.describe_na(new_data)\n",
    "missing_values"
   ]
  },
  {
   "cell_type": "code",
   "execution_count": 34,
   "metadata": {},
   "outputs": [
    {
     "data": {
      "text/plain": [
       "'The feature with missing values is fuel_unit'"
      ]
     },
     "execution_count": 34,
     "metadata": {},
     "output_type": "execute_result"
    }
   ],
   "source": [
    "f\"The feature with missing values is {missing_values.index[0]}\""
   ]
  },
  {
   "cell_type": "code",
   "execution_count": 35,
   "metadata": {},
   "outputs": [
    {
     "data": {
      "text/plain": [
       "'The total number of missing values in this feature is 180'"
      ]
     },
     "execution_count": 35,
     "metadata": {},
     "output_type": "execute_result"
    }
   ],
   "source": [
    "f\"The total number of missing values in this feature is {missing_values.loc['fuel_unit', 'null_counts']}\""
   ]
  },
  {
   "cell_type": "code",
   "execution_count": 36,
   "metadata": {},
   "outputs": [
    {
     "data": {
      "text/plain": [
       "'The percent of missing rows as a factor of the total number of rows is 0.609694136774718'"
      ]
     },
     "execution_count": 36,
     "metadata": {},
     "output_type": "execute_result"
    }
   ],
   "source": [
    "f\"The percent of missing rows as a factor of the total number of rows is {missing_values.loc['fuel_unit', 'null_percent(%)']}\""
   ]
  },
  {
   "cell_type": "markdown",
   "metadata": {},
   "source": [
    "### Question 7"
   ]
  },
  {
   "cell_type": "code",
   "execution_count": 37,
   "metadata": {},
   "outputs": [
    {
     "data": {
      "text/plain": [
       "dtype('O')"
      ]
     },
     "execution_count": 37,
     "metadata": {},
     "output_type": "execute_result"
    }
   ],
   "source": [
    "new_data[\"fuel_unit\"].dtype"
   ]
  },
  {
   "cell_type": "code",
   "execution_count": 38,
   "metadata": {},
   "outputs": [],
   "source": [
    "# Since the datatype of the column is that of an object, \n",
    "# hence, it's a categorical type \n",
    "# and the mode of imputation to fill in the missing data will be of \"mode\""
   ]
  },
  {
   "cell_type": "markdown",
   "metadata": {},
   "source": [
    "### Question 8"
   ]
  },
  {
   "cell_type": "code",
   "execution_count": 39,
   "metadata": {},
   "outputs": [
    {
     "data": {
      "text/plain": [
       "['fuel_qty_burned', 'fuel_mmbtu_per_unit']"
      ]
     },
     "execution_count": 39,
     "metadata": {},
     "output_type": "execute_result"
    }
   ],
   "source": [
    "list(new_data.corr()[\"fuel_cost_per_unit_burned\"].sort_values().nsmallest(3)[1:3].index)"
   ]
  },
  {
   "cell_type": "markdown",
   "metadata": {},
   "source": [
    "### Question 9"
   ]
  },
  {
   "cell_type": "code",
   "execution_count": 40,
   "metadata": {},
   "outputs": [
    {
     "data": {
      "text/html": [
       "<div>\n",
       "<style scoped>\n",
       "    .dataframe tbody tr th:only-of-type {\n",
       "        vertical-align: middle;\n",
       "    }\n",
       "\n",
       "    .dataframe tbody tr th {\n",
       "        vertical-align: top;\n",
       "    }\n",
       "\n",
       "    .dataframe thead th {\n",
       "        text-align: right;\n",
       "    }\n",
       "</style>\n",
       "<table border=\"1\" class=\"dataframe\">\n",
       "  <thead>\n",
       "    <tr style=\"text-align: right;\">\n",
       "      <th>fuel_type_code_pudl</th>\n",
       "      <th>coal</th>\n",
       "      <th>gas</th>\n",
       "      <th>nuclear</th>\n",
       "      <th>oil</th>\n",
       "      <th>other</th>\n",
       "      <th>waste</th>\n",
       "    </tr>\n",
       "    <tr>\n",
       "      <th>report_year</th>\n",
       "      <th></th>\n",
       "      <th></th>\n",
       "      <th></th>\n",
       "      <th></th>\n",
       "      <th></th>\n",
       "      <th></th>\n",
       "    </tr>\n",
       "  </thead>\n",
       "  <tbody>\n",
       "    <tr>\n",
       "      <th>1994</th>\n",
       "      <td>14984.572</td>\n",
       "      <td>10792.496</td>\n",
       "      <td>227983.354</td>\n",
       "      <td>9362.194</td>\n",
       "      <td>116.737</td>\n",
       "      <td>52.762</td>\n",
       "    </tr>\n",
       "    <tr>\n",
       "      <th>1995</th>\n",
       "      <td>14571.785</td>\n",
       "      <td>9087.905</td>\n",
       "      <td>384152.639</td>\n",
       "      <td>17858.281</td>\n",
       "      <td>183.577</td>\n",
       "      <td>-192.699</td>\n",
       "    </tr>\n",
       "    <tr>\n",
       "      <th>1996</th>\n",
       "      <td>12694.803</td>\n",
       "      <td>1467.390</td>\n",
       "      <td>66657.887</td>\n",
       "      <td>5357.028</td>\n",
       "      <td>160.075</td>\n",
       "      <td>88.092</td>\n",
       "    </tr>\n",
       "    <tr>\n",
       "      <th>1997</th>\n",
       "      <td>43742.178</td>\n",
       "      <td>1518.471</td>\n",
       "      <td>112593.911</td>\n",
       "      <td>5387.536</td>\n",
       "      <td>153.923</td>\n",
       "      <td>137.433</td>\n",
       "    </tr>\n",
       "    <tr>\n",
       "      <th>1998</th>\n",
       "      <td>11902.597</td>\n",
       "      <td>7475.596</td>\n",
       "      <td>117788.269</td>\n",
       "      <td>2608.657</td>\n",
       "      <td>225.428</td>\n",
       "      <td>238.109</td>\n",
       "    </tr>\n",
       "    <tr>\n",
       "      <th>1999</th>\n",
       "      <td>16303.468</td>\n",
       "      <td>16767.895</td>\n",
       "      <td>62915.808</td>\n",
       "      <td>29654.510</td>\n",
       "      <td>271.579</td>\n",
       "      <td>143.025</td>\n",
       "    </tr>\n",
       "    <tr>\n",
       "      <th>2000</th>\n",
       "      <td>100428.831</td>\n",
       "      <td>10024.878</td>\n",
       "      <td>112375.382</td>\n",
       "      <td>104055.470</td>\n",
       "      <td>100.014</td>\n",
       "      <td>-489.141</td>\n",
       "    </tr>\n",
       "    <tr>\n",
       "      <th>2001</th>\n",
       "      <td>15109.012</td>\n",
       "      <td>10360.348</td>\n",
       "      <td>59292.078</td>\n",
       "      <td>95315.421</td>\n",
       "      <td>71.283</td>\n",
       "      <td>217.499</td>\n",
       "    </tr>\n",
       "    <tr>\n",
       "      <th>2002</th>\n",
       "      <td>9171.164</td>\n",
       "      <td>3584.279</td>\n",
       "      <td>59958.884</td>\n",
       "      <td>48956.627</td>\n",
       "      <td>-4.257</td>\n",
       "      <td>254.438</td>\n",
       "    </tr>\n",
       "    <tr>\n",
       "      <th>2003</th>\n",
       "      <td>30954.110</td>\n",
       "      <td>7170.143</td>\n",
       "      <td>59591.536</td>\n",
       "      <td>51349.250</td>\n",
       "      <td>-51.286</td>\n",
       "      <td>161.973</td>\n",
       "    </tr>\n",
       "    <tr>\n",
       "      <th>2004</th>\n",
       "      <td>9632.063</td>\n",
       "      <td>5019.023</td>\n",
       "      <td>61870.002</td>\n",
       "      <td>107669.303</td>\n",
       "      <td>174.796</td>\n",
       "      <td>272.512</td>\n",
       "    </tr>\n",
       "    <tr>\n",
       "      <th>2005</th>\n",
       "      <td>11107.182</td>\n",
       "      <td>3833.652</td>\n",
       "      <td>94192.368</td>\n",
       "      <td>26401.284</td>\n",
       "      <td>76.196</td>\n",
       "      <td>313.457</td>\n",
       "    </tr>\n",
       "    <tr>\n",
       "      <th>2006</th>\n",
       "      <td>12402.684</td>\n",
       "      <td>3598.417</td>\n",
       "      <td>141240.473</td>\n",
       "      <td>30285.707</td>\n",
       "      <td>190.904</td>\n",
       "      <td>423.847</td>\n",
       "    </tr>\n",
       "    <tr>\n",
       "      <th>2007</th>\n",
       "      <td>12965.171</td>\n",
       "      <td>3867.366</td>\n",
       "      <td>154945.333</td>\n",
       "      <td>83766.316</td>\n",
       "      <td>143.112</td>\n",
       "      <td>427.014</td>\n",
       "    </tr>\n",
       "    <tr>\n",
       "      <th>2008</th>\n",
       "      <td>14331.348</td>\n",
       "      <td>16087.669</td>\n",
       "      <td>226552.820</td>\n",
       "      <td>56654.223</td>\n",
       "      <td>211.940</td>\n",
       "      <td>474.022</td>\n",
       "    </tr>\n",
       "    <tr>\n",
       "      <th>2009</th>\n",
       "      <td>45554.858</td>\n",
       "      <td>11193.089</td>\n",
       "      <td>172823.881</td>\n",
       "      <td>33068.327</td>\n",
       "      <td>204.527</td>\n",
       "      <td>739.884</td>\n",
       "    </tr>\n",
       "    <tr>\n",
       "      <th>2010</th>\n",
       "      <td>88627.745</td>\n",
       "      <td>4240.494</td>\n",
       "      <td>202133.032</td>\n",
       "      <td>35503.392</td>\n",
       "      <td>321.647</td>\n",
       "      <td>755.157</td>\n",
       "    </tr>\n",
       "    <tr>\n",
       "      <th>2011</th>\n",
       "      <td>17001.015</td>\n",
       "      <td>3264.968</td>\n",
       "      <td>229824.926</td>\n",
       "      <td>123477.065</td>\n",
       "      <td>89.717</td>\n",
       "      <td>517.912</td>\n",
       "    </tr>\n",
       "    <tr>\n",
       "      <th>2012</th>\n",
       "      <td>17546.097</td>\n",
       "      <td>3420.876</td>\n",
       "      <td>240648.791</td>\n",
       "      <td>59263.866</td>\n",
       "      <td>224.123</td>\n",
       "      <td>589.791</td>\n",
       "    </tr>\n",
       "    <tr>\n",
       "      <th>2013</th>\n",
       "      <td>17629.860</td>\n",
       "      <td>2982.281</td>\n",
       "      <td>243192.226</td>\n",
       "      <td>42336.964</td>\n",
       "      <td>182.494</td>\n",
       "      <td>609.411</td>\n",
       "    </tr>\n",
       "    <tr>\n",
       "      <th>2014</th>\n",
       "      <td>15412.197</td>\n",
       "      <td>4169.285</td>\n",
       "      <td>229158.129</td>\n",
       "      <td>268670.603</td>\n",
       "      <td>0.661</td>\n",
       "      <td>591.594</td>\n",
       "    </tr>\n",
       "    <tr>\n",
       "      <th>2015</th>\n",
       "      <td>13338.235</td>\n",
       "      <td>6224.304</td>\n",
       "      <td>208830.486</td>\n",
       "      <td>31038.094</td>\n",
       "      <td>0.595</td>\n",
       "      <td>629.270</td>\n",
       "    </tr>\n",
       "    <tr>\n",
       "      <th>2016</th>\n",
       "      <td>11100.925</td>\n",
       "      <td>1994.266</td>\n",
       "      <td>213837.559</td>\n",
       "      <td>28012.376</td>\n",
       "      <td>0.609</td>\n",
       "      <td>539.079</td>\n",
       "    </tr>\n",
       "    <tr>\n",
       "      <th>2017</th>\n",
       "      <td>10254.284</td>\n",
       "      <td>4424.244</td>\n",
       "      <td>197491.493</td>\n",
       "      <td>31935.723</td>\n",
       "      <td>NaN</td>\n",
       "      <td>452.079</td>\n",
       "    </tr>\n",
       "    <tr>\n",
       "      <th>2018</th>\n",
       "      <td>9488.197</td>\n",
       "      <td>4322.494</td>\n",
       "      <td>173267.161</td>\n",
       "      <td>33836.602</td>\n",
       "      <td>NaN</td>\n",
       "      <td>660.972</td>\n",
       "    </tr>\n",
       "  </tbody>\n",
       "</table>\n",
       "</div>"
      ],
      "text/plain": [
       "fuel_type_code_pudl        coal        gas     nuclear         oil    other  \\\n",
       "report_year                                                                   \n",
       "1994                  14984.572  10792.496  227983.354    9362.194  116.737   \n",
       "1995                  14571.785   9087.905  384152.639   17858.281  183.577   \n",
       "1996                  12694.803   1467.390   66657.887    5357.028  160.075   \n",
       "1997                  43742.178   1518.471  112593.911    5387.536  153.923   \n",
       "1998                  11902.597   7475.596  117788.269    2608.657  225.428   \n",
       "1999                  16303.468  16767.895   62915.808   29654.510  271.579   \n",
       "2000                 100428.831  10024.878  112375.382  104055.470  100.014   \n",
       "2001                  15109.012  10360.348   59292.078   95315.421   71.283   \n",
       "2002                   9171.164   3584.279   59958.884   48956.627   -4.257   \n",
       "2003                  30954.110   7170.143   59591.536   51349.250  -51.286   \n",
       "2004                   9632.063   5019.023   61870.002  107669.303  174.796   \n",
       "2005                  11107.182   3833.652   94192.368   26401.284   76.196   \n",
       "2006                  12402.684   3598.417  141240.473   30285.707  190.904   \n",
       "2007                  12965.171   3867.366  154945.333   83766.316  143.112   \n",
       "2008                  14331.348  16087.669  226552.820   56654.223  211.940   \n",
       "2009                  45554.858  11193.089  172823.881   33068.327  204.527   \n",
       "2010                  88627.745   4240.494  202133.032   35503.392  321.647   \n",
       "2011                  17001.015   3264.968  229824.926  123477.065   89.717   \n",
       "2012                  17546.097   3420.876  240648.791   59263.866  224.123   \n",
       "2013                  17629.860   2982.281  243192.226   42336.964  182.494   \n",
       "2014                  15412.197   4169.285  229158.129  268670.603    0.661   \n",
       "2015                  13338.235   6224.304  208830.486   31038.094    0.595   \n",
       "2016                  11100.925   1994.266  213837.559   28012.376    0.609   \n",
       "2017                  10254.284   4424.244  197491.493   31935.723      NaN   \n",
       "2018                   9488.197   4322.494  173267.161   33836.602      NaN   \n",
       "\n",
       "fuel_type_code_pudl    waste  \n",
       "report_year                   \n",
       "1994                  52.762  \n",
       "1995                -192.699  \n",
       "1996                  88.092  \n",
       "1997                 137.433  \n",
       "1998                 238.109  \n",
       "1999                 143.025  \n",
       "2000                -489.141  \n",
       "2001                 217.499  \n",
       "2002                 254.438  \n",
       "2003                 161.973  \n",
       "2004                 272.512  \n",
       "2005                 313.457  \n",
       "2006                 423.847  \n",
       "2007                 427.014  \n",
       "2008                 474.022  \n",
       "2009                 739.884  \n",
       "2010                 755.157  \n",
       "2011                 517.912  \n",
       "2012                 589.791  \n",
       "2013                 609.411  \n",
       "2014                 591.594  \n",
       "2015                 629.270  \n",
       "2016                 539.079  \n",
       "2017                 452.079  \n",
       "2018                 660.972  "
      ]
     },
     "execution_count": 40,
     "metadata": {},
     "output_type": "execute_result"
    }
   ],
   "source": [
    "report_and_type_group = new_data.groupby([\"report_year\", \"fuel_type_code_pudl\"])[\"fuel_cost_per_unit_burned\"].sum().unstack(1)\n",
    "report_and_type_group"
   ]
  },
  {
   "cell_type": "code",
   "execution_count": 41,
   "metadata": {},
   "outputs": [
    {
     "data": {
      "text/plain": [
       "14984.572000000011"
      ]
     },
     "execution_count": 41,
     "metadata": {},
     "output_type": "execute_result"
    }
   ],
   "source": [
    "coal_1994 = report_and_type_group.loc[1994, \"coal\"]\n",
    "coal_1994"
   ]
  },
  {
   "cell_type": "code",
   "execution_count": 42,
   "metadata": {},
   "outputs": [
    {
     "data": {
      "text/plain": [
       "11902.597000000012"
      ]
     },
     "execution_count": 42,
     "metadata": {},
     "output_type": "execute_result"
    }
   ],
   "source": [
    "coal_1998 = report_and_type_group.loc[1998, \"coal\"]\n",
    "coal_1998"
   ]
  },
  {
   "cell_type": "code",
   "execution_count": 43,
   "metadata": {},
   "outputs": [
    {
     "data": {
      "text/plain": [
       "'The percent change in fuel_cost_per_unit_burned is 0.2056765451826049 %'"
      ]
     },
     "execution_count": 43,
     "metadata": {},
     "output_type": "execute_result"
    }
   ],
   "source": [
    "change = (coal_1994 - coal_1998) / coal_1994\n",
    "f\"The percent change in fuel_cost_per_unit_burned is {change} %\""
   ]
  },
  {
   "cell_type": "markdown",
   "metadata": {},
   "source": [
    "### Question 10"
   ]
  },
  {
   "cell_type": "code",
   "execution_count": 44,
   "metadata": {},
   "outputs": [
    {
     "data": {
      "text/plain": [
       "1997"
      ]
     },
     "execution_count": 44,
     "metadata": {},
     "output_type": "execute_result"
    }
   ],
   "source": [
    "q10 = new_data.groupby(\"report_year\")[\"fuel_cost_per_unit_delivered\"].mean().idxmax()\n",
    "q10"
   ]
  },
  {
   "cell_type": "code",
   "execution_count": 45,
   "metadata": {},
   "outputs": [
    {
     "data": {
      "text/plain": [
       "'The year with the highest average fuel_cost_per_unit_delivered is 1997'"
      ]
     },
     "execution_count": 45,
     "metadata": {},
     "output_type": "execute_result"
    }
   ],
   "source": [
    "f\"The year with the highest average fuel_cost_per_unit_delivered is {q10}\""
   ]
  },
  {
   "cell_type": "code",
   "execution_count": null,
   "metadata": {},
   "outputs": [],
   "source": []
  }
 ],
 "metadata": {
  "kernelspec": {
   "display_name": "Python 3",
   "language": "python",
   "name": "python3"
  },
  "language_info": {
   "codemirror_mode": {
    "name": "ipython",
    "version": 3
   },
   "file_extension": ".py",
   "mimetype": "text/x-python",
   "name": "python",
   "nbconvert_exporter": "python",
   "pygments_lexer": "ipython3",
   "version": "3.8.5"
  }
 },
 "nbformat": 4,
 "nbformat_minor": 4
}
